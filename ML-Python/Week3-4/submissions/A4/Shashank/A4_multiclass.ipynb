{
 "cells": [
  {
   "cell_type": "markdown",
   "metadata": {},
   "source": [
    "# Assignment 4c\n",
    "\n",
    "## Multi-class classification\n",
    "\n",
    "### Using regularised logistic regression to recognize handwritten digits (from 0 to 9)."
   ]
  },
  {
   "cell_type": "code",
   "execution_count": 1,
   "metadata": {
    "collapsed": true
   },
   "outputs": [],
   "source": [
    "import numpy as np\n",
    "import scipy.io\n",
    "data = scipy.io.loadmat(\"ex3data1.mat\")\n",
    "(m, n) = np.shape(data['X'])\n",
    "n = n + 1\n",
    "k = 10\n",
    "X = np.ones((m, n))\n",
    "X[:, 1:] = np.array(data['X'])\n",
    "y = np.array(data['y'])"
   ]
  },
  {
   "cell_type": "markdown",
   "metadata": {},
   "source": [
    "y_multi is a vector of labels from 1 to 10, where the digit “0” is mapped to the label 10 (to avoid confusionswith indexing)"
   ]
  },
  {
   "cell_type": "code",
   "execution_count": 2,
   "metadata": {
    "collapsed": true
   },
   "outputs": [],
   "source": [
    "y_multi = np.zeros((m, k))\n",
    "for i in range(m):\n",
    "    if (y[i, 0] < 10):\n",
    "        y_multi[i, y[i, 0]] = 1\n",
    "    else:\n",
    "        y_multi[i, 0] = 1"
   ]
  },
  {
   "cell_type": "markdown",
   "metadata": {},
   "source": [
    "##### Sigmoid function"
   ]
  },
  {
   "cell_type": "code",
   "execution_count": 3,
   "metadata": {
    "collapsed": true
   },
   "outputs": [],
   "source": [
    "def sigmoid(z):\n",
    "    neg_z = np.negative(z)\n",
    "    exp_z = np.exp(neg_z)\n",
    "    den = np.add(1, exp_z)\n",
    "    return np.reciprocal(den)"
   ]
  },
  {
   "cell_type": "markdown",
   "metadata": {},
   "source": [
    "##### Cost function"
   ]
  },
  {
   "cell_type": "code",
   "execution_count": 4,
   "metadata": {
    "collapsed": true
   },
   "outputs": [],
   "source": [
    "def cost():\n",
    "    z = np.dot(X, theta)\n",
    "    h = sigmoid(z)\n",
    "    # if sigmoid function gives error uncomment the 2 statements below and comment the statement above\n",
    "    #from scipy.special import expit\n",
    "    #h = expit(z)\n",
    "    t1 = -1 * y * np.log(h)\n",
    "    t2 = (y - 1) * np.log(1 - h)\n",
    "    sum_ = np.sum(t1 + t2)\n",
    "    sq_theta = theta[1:, :] * theta[1:, :]\n",
    "    sum_sq_theta = np.sum(sq_theta, axis = 0)\n",
    "    J = (sum_ + (lambda_ * sum_sq_theta)/2) / m \n",
    "    return J"
   ]
  },
  {
   "cell_type": "markdown",
   "metadata": {},
   "source": [
    "##### Gradient function"
   ]
  },
  {
   "cell_type": "code",
   "execution_count": 5,
   "metadata": {
    "collapsed": true
   },
   "outputs": [],
   "source": [
    "def dif_cost():\n",
    "    z = np.dot(X, theta)\n",
    "    h = sigmoid(z)\n",
    "    # if sigmoid function gives error uncomment the 2 statements below and comment the statement above\n",
    "    #from scipy.special import expit\n",
    "    #h_temp = expit(z)\n",
    "    trans_X = np.transpose(X)\n",
    "    dJ = np.dot(trans_X, (h - y_multi)) / m\n",
    "    temp = lambda_ * theta[1:, :] / m\n",
    "    \n",
    "    dJ[1:, :] = dJ[1:, :] + temp\n",
    "    return dJ"
   ]
  },
  {
   "cell_type": "markdown",
   "metadata": {},
   "source": [
    "##### Initialize theta values and lambda"
   ]
  },
  {
   "cell_type": "code",
   "execution_count": 6,
   "metadata": {
    "collapsed": true
   },
   "outputs": [],
   "source": [
    "theta = np.zeros((n, k))\n",
    "lambda_ = 0.1"
   ]
  },
  {
   "cell_type": "markdown",
   "metadata": {},
   "source": [
    "##### Training "
   ]
  },
  {
   "cell_type": "code",
   "execution_count": 7,
   "metadata": {
    "collapsed": true
   },
   "outputs": [],
   "source": [
    "no_iter = 3000\n",
    "alpha = 3\n",
    "for i in range(1, no_iter):\n",
    "    grad = dif_cost()\n",
    "    theta = theta - alpha * grad"
   ]
  },
  {
   "cell_type": "markdown",
   "metadata": {},
   "source": [
    "##### Predicting"
   ]
  },
  {
   "cell_type": "code",
   "execution_count": 8,
   "metadata": {
    "collapsed": true
   },
   "outputs": [],
   "source": [
    "z_pred = np.dot(X, theta)\n",
    "h = sigmoid(z_pred)\n",
    "# if sigmoid function gives error uncomment the 2 statements below and comment the statement above\n",
    "#from scipy.special import expit\n",
    "#h = expit(z_pred)\n",
    "pred = np.argmax(h, axis = 1)\n",
    "for i in range(m):\n",
    "    if pred[i] == 0:\n",
    "        pred[i] = 10\n",
    "pred = np.reshape(pred, (m, 1))"
   ]
  },
  {
   "cell_type": "markdown",
   "metadata": {},
   "source": [
    "##### Accuracy"
   ]
  },
  {
   "cell_type": "code",
   "execution_count": 10,
   "metadata": {},
   "outputs": [
    {
     "name": "stdout",
     "output_type": "stream",
     "text": [
      "Accuracy: 95.20 %\n"
     ]
    }
   ],
   "source": [
    "count = 0\n",
    "for i in range(m):\n",
    "    if y[i, 0] == pred[i, 0]:\n",
    "        count = count + 1\n",
    "accuracy = count * 100 / m\n",
    "print(\"Accuracy: {0:.2f} %\".format(accuracy))        "
   ]
  },
  {
   "cell_type": "code",
   "execution_count": null,
   "metadata": {
    "collapsed": true
   },
   "outputs": [],
   "source": []
  }
 ],
 "metadata": {
  "kernelspec": {
   "display_name": "Python 3",
   "language": "python",
   "name": "python3"
  },
  "language_info": {
   "codemirror_mode": {
    "name": "ipython",
    "version": 3
   },
   "file_extension": ".py",
   "mimetype": "text/x-python",
   "name": "python",
   "nbconvert_exporter": "python",
   "pygments_lexer": "ipython3",
   "version": "3.6.1"
  }
 },
 "nbformat": 4,
 "nbformat_minor": 2
}
