{
 "cells": [
  {
   "cell_type": "markdown",
   "metadata": {},
   "source": [
    "# Assignment 4a\n",
    "\n",
    "## Logistic Regression\n",
    "\n",
    "### A classification model that estimates an applicant’s probability of admission based on scores from two exams."
   ]
  },
  {
   "cell_type": "code",
   "execution_count": 122,
   "metadata": {
    "collapsed": true
   },
   "outputs": [],
   "source": [
    "import numpy as np\n",
    "data = np.genfromtxt('ex2data1.txt', delimiter = \",\")\n",
    "m = len(data[:,0])\n",
    "y = np.zeros((m, 1))\n",
    "y[:,0] = data[:, 2]\n",
    "m = len(y)\n",
    "X = np.ones((m,3))\n",
    "X[:, 1:] = data[:, 0:2]"
   ]
  },
  {
   "cell_type": "markdown",
   "metadata": {},
   "source": [
    "##### Visualizing the data"
   ]
  },
  {
   "cell_type": "code",
   "execution_count": 123,
   "metadata": {
    "scrolled": true
   },
   "outputs": [
    {
     "data": {
      "image/png": "[encoded data removed]",
      "text/plain": [
       "<matplotlib.figure.Figure at 0x7f003ea62240>"
      ]
     },
     "metadata": {},
     "output_type": "display_data"
    }
   ],
   "source": [
    "pos = []\n",
    "neg = []\n",
    "for i in range(0, m):\n",
    "    if y[i] == 1:\n",
    "        pos.append(i)\n",
    "    else:\n",
    "        neg.append(i)\n",
    "import matplotlib.pyplot as plt\n",
    "plt.plot(X[pos, 1], X[pos, 2], '+', label = \"Admitted\")\n",
    "plt.plot(X[neg, 1], X[neg, 2], 'yo', label = \"Not Admitted\")\n",
    "plt.xlabel('Exam 1 score')\n",
    "plt.ylabel('Exam 2 score')\n",
    "plt.legend(bbox_to_anchor=(1.05, 1), loc=2, borderaxespad=0.)\n",
    "plt.show()"
   ]
  },
  {
   "cell_type": "markdown",
   "metadata": {},
   "source": [
    "##### Sigmoid function"
   ]
  },
  {
   "cell_type": "code",
   "execution_count": 124,
   "metadata": {
    "collapsed": true
   },
   "outputs": [],
   "source": [
    "def sigmoid(z):\n",
    "    neg_z = np.negative(z)\n",
    "    exp_z = np.exp(neg_z)\n",
    "    den = np.add(1, exp_z)\n",
    "    return np.reciprocal(den)"
   ]
  },
  {
   "cell_type": "markdown",
   "metadata": {},
   "source": [
    "##### Cost function "
   ]
  },
  {
   "cell_type": "code",
   "execution_count": 125,
   "metadata": {
    "collapsed": true
   },
   "outputs": [],
   "source": [
    "def cost():\n",
    "    z = np.dot(X, theta)\n",
    "    h = sigmoid(z)\n",
    "    # if sigmoid function gives error uncomment the 2 statements below and comment the statement above\n",
    "    #from scipy.special import expit\n",
    "    #h = expit(z)\n",
    "    t1 = -1 * y * np.log(h)\n",
    "    t2 = (y - 1) * np.log(1 - h)\n",
    "    sum_ = np.sum(t1 + t2)\n",
    "    J = sum_/m \n",
    "    return J"
   ]
  },
  {
   "cell_type": "markdown",
   "metadata": {},
   "source": [
    "##### Gradient function"
   ]
  },
  {
   "cell_type": "code",
   "execution_count": 126,
   "metadata": {
    "collapsed": true
   },
   "outputs": [],
   "source": [
    "# function to calculate gradient\n",
    "def dif_cost():\n",
    "    n = len(theta)\n",
    "    grad = np.zeros((n, 1))\n",
    "    z = np.dot(X, theta)\n",
    "    h = sigmoid(z)\n",
    "    # if sigmoid function gives error uncomment the 2 statements below and comment the statement above\n",
    "    #from scipy.special import expit\n",
    "    #h = expit(z)\n",
    "    for j in range(0, n):\n",
    "        x = np.zeros((m,1))\n",
    "        x[:,0] = X[:,j]\n",
    "        t = (h - y) * x\n",
    "        sum_ = np.sum(t)\n",
    "        grad[j, 0] = sum_ / m\n",
    "    return grad    "
   ]
  },
  {
   "cell_type": "markdown",
   "metadata": {},
   "source": [
    "##### Initialize theta values"
   ]
  },
  {
   "cell_type": "code",
   "execution_count": 127,
   "metadata": {
    "collapsed": true
   },
   "outputs": [],
   "source": [
    "theta = np.zeros((3, 1))"
   ]
  },
  {
   "cell_type": "markdown",
   "metadata": {},
   "source": [
    "##### Train"
   ]
  },
  {
   "cell_type": "code",
   "execution_count": 128,
   "metadata": {
    "collapsed": true
   },
   "outputs": [],
   "source": [
    "no_iter = 300000\n",
    "alpha = 0.00425\n",
    "for i in range(1, no_iter):\n",
    "    grad = dif_cost()\n",
    "    theta = theta - alpha * grad"
   ]
  },
  {
   "cell_type": "markdown",
   "metadata": {},
   "source": [
    "##### Theta values :"
   ]
  },
  {
   "cell_type": "code",
   "execution_count": 129,
   "metadata": {},
   "outputs": [
    {
     "data": {
      "text/plain": [
       "array([[-25.56299656],\n",
       "       [  0.20626618],\n",
       "       [  0.20150353]])"
      ]
     },
     "execution_count": 129,
     "metadata": {},
     "output_type": "execute_result"
    }
   ],
   "source": [
    "theta"
   ]
  },
  {
   "cell_type": "markdown",
   "metadata": {},
   "source": [
    "###### Cost :"
   ]
  },
  {
   "cell_type": "code",
   "execution_count": 130,
   "metadata": {},
   "outputs": [
    {
     "data": {
      "text/plain": [
       "0.20843031693614494"
      ]
     },
     "execution_count": 130,
     "metadata": {},
     "output_type": "execute_result"
    }
   ],
   "source": [
    "cost()"
   ]
  },
  {
   "cell_type": "markdown",
   "metadata": {},
   "source": [
    "##### Test\n",
    "For a student with an Exam 1 score of 45 and an Exam 2 score of 85, probability of selection is"
   ]
  },
  {
   "cell_type": "code",
   "execution_count": 131,
   "metadata": {},
   "outputs": [
    {
     "name": "stdout",
     "output_type": "stream",
     "text": [
      "[ 0.84678197]\n"
     ]
    }
   ],
   "source": [
    "A = [1, 45, 85]\n",
    "probability = np.dot(A, theta)\n",
    "print(probability)"
   ]
  },
  {
   "cell_type": "markdown",
   "metadata": {},
   "source": [
    "##### Visualizing the decision boundary"
   ]
  },
  {
   "cell_type": "code",
   "execution_count": 132,
   "metadata": {},
   "outputs": [
    {
     "data": {
      "image/png": "[encoded data removed]",
      "text/plain": [
       "<matplotlib.figure.Figure at 0x7f003ea7dba8>"
      ]
     },
     "metadata": {},
     "output_type": "display_data"
    }
   ],
   "source": [
    "plot_x = [min(X[:,2])-2,  max(X[:,2])+2]\n",
    "plot_y = (-1.0/theta[2,0]) * (np.multiply(theta[1,0],plot_x) + theta[0,0])\n",
    "plt.plot(X[pos, 1], X[pos, 2], '+', label = \"Admitted\")\n",
    "plt.plot(X[neg, 1], X[neg, 2], 'yo', label = \"Not Admitted\")\n",
    "plt.plot(plot_x, plot_y)\n",
    "plt.xlabel('Exam 1 score')\n",
    "plt.ylabel('Exam 2 score')\n",
    "plt.legend(bbox_to_anchor=(1.05, 1), loc=2, borderaxespad=0.)\n",
    "plt.show()"
   ]
  },
  {
   "cell_type": "code",
   "execution_count": null,
   "metadata": {
    "collapsed": true
   },
   "outputs": [],
   "source": []
  }
 ],
 "metadata": {
  "kernelspec": {
   "display_name": "Python 3",
   "language": "python",
   "name": "python3"
  },
  "language_info": {
   "codemirror_mode": {
    "name": "ipython",
    "version": 3
   },
   "file_extension": ".py",
   "mimetype": "text/x-python",
   "name": "python",
   "nbconvert_exporter": "python",
   "pygments_lexer": "ipython3",
   "version": "3.6.1"
  }
 },
 "nbformat": 4,
 "nbformat_minor": 2
}
