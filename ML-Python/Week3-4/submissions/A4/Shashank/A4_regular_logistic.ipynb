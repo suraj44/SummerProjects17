{
 "cells": [
  {
   "cell_type": "markdown",
   "metadata": {},
   "source": [
    "# Assignment 4b\n",
    "\n",
    "## Regularised logistic regression\n",
    "\n",
    "### Predict whether microchips from a fabrication plant passes quality assurance"
   ]
  },
  {
   "cell_type": "code",
   "execution_count": 2,
   "metadata": {
    "collapsed": true
   },
   "outputs": [],
   "source": [
    "import numpy as np\n",
    "data = np.genfromtxt('ex2data2.txt', delimiter = \",\")\n",
    "m = len(data[:,0])\n",
    "y = data[:, 2].reshape((m, 1))\n",
    "X = np.ones((m,3))\n",
    "X[:, 1:] = data[:, 0:2]"
   ]
  },
  {
   "cell_type": "markdown",
   "metadata": {},
   "source": [
    "##### Visualizing the data"
   ]
  },
  {
   "cell_type": "code",
   "execution_count": 3,
   "metadata": {
    "scrolled": true
   },
   "outputs": [
    {
     "data": {
      "image/png": "[encoded data removed]",
      "text/plain": [
       "<matplotlib.figure.Figure at 0x7f0d632d9cc0>"
      ]
     },
     "metadata": {},
     "output_type": "display_data"
    }
   ],
   "source": [
    "pos = []\n",
    "neg = []\n",
    "for i in range(0, m):\n",
    "    if y[i] == 1:\n",
    "        pos.append(i)\n",
    "    else:\n",
    "        neg.append(i)\n",
    "import matplotlib.pyplot as plt\n",
    "plt.plot(X[pos, 1], X[pos, 2], '+', label = \"y=1\")\n",
    "plt.plot(X[neg, 1], X[neg, 2], 'yo', label = \"y=0\")\n",
    "plt.axis([-1, 1.5, -1, 1.25])\n",
    "\n",
    "plt.xlabel('Microchip Test 1')\n",
    "plt.ylabel('Microchip Test 2')\n",
    "plt.legend(bbox_to_anchor=(1.05, 1), loc=2, borderaxespad=0.)\n",
    "plt.show()"
   ]
  },
  {
   "cell_type": "markdown",
   "metadata": {},
   "source": [
    "##### Feature Mapping\n",
    "One way to fit the data better is to create more features from each data point. The function mapFeature, maps the features into all polynomial terms of x1 and x2 up to the sixth power. As a result of this mapping, our vector of two features (the scores on two QA tests) has been transformed into a 28-dimensional vector."
   ]
  },
  {
   "cell_type": "code",
   "execution_count": 4,
   "metadata": {
    "collapsed": true
   },
   "outputs": [],
   "source": [
    "def mapFeature(X1, X2):\n",
    "    if isinstance(X1, np.float64) :\n",
    "        l = 1\n",
    "    else:\n",
    "        l = len(X1)\n",
    "    X1.reshape((l, 1))\n",
    "    X2.reshape((l, 1))\n",
    "    degree = 6\n",
    "    out = np.ones((l, 28))\n",
    "    k = 1\n",
    "    for i in range(1, degree + 1):\n",
    "        for j in range(0, i + 1):\n",
    "            out[:, k] = (np.power(X1, (i-j))) * np.power(X2, j)\n",
    "            k = k + 1     \n",
    "    return out        "
   ]
  },
  {
   "cell_type": "code",
   "execution_count": 5,
   "metadata": {
    "collapsed": true
   },
   "outputs": [],
   "source": [
    "X = mapFeature(X[:, 1], X[:, 2])"
   ]
  },
  {
   "cell_type": "markdown",
   "metadata": {},
   "source": [
    "##### Sigmoid function"
   ]
  },
  {
   "cell_type": "code",
   "execution_count": 6,
   "metadata": {
    "collapsed": true
   },
   "outputs": [],
   "source": [
    "def sigmoid(z):\n",
    "    neg_z = np.negative(z)\n",
    "    exp_z = np.exp(neg_z)\n",
    "    den = np.add(1, exp_z)\n",
    "    return np.reciprocal(den)"
   ]
  },
  {
   "cell_type": "markdown",
   "metadata": {},
   "source": [
    "##### Cost function"
   ]
  },
  {
   "cell_type": "code",
   "execution_count": 7,
   "metadata": {
    "collapsed": true
   },
   "outputs": [],
   "source": [
    "def cost():\n",
    "    z = np.dot(X, theta)\n",
    "    h = sigmoid(z)\n",
    "    # if sigmoid function gives error uncomment the 2 statements below and comment the statement above\n",
    "    #from scipy.special import expit\n",
    "    #h = expit(z)\n",
    "    t1 = -1 * y * np.log(h)\n",
    "    t2 = (y - 1) * np.log(1 - h)\n",
    "    sum_ = np.sum(t1 + t2)\n",
    "    sq_theta = theta[1:, 0] * theta[1:, 0]\n",
    "    sum_sq_theta = np.sum(sq_theta)\n",
    "    J = (sum_ + (lambda_ * sum_sq_theta)/2) / m \n",
    "    return J"
   ]
  },
  {
   "cell_type": "markdown",
   "metadata": {},
   "source": [
    "##### Gradient function"
   ]
  },
  {
   "cell_type": "code",
   "execution_count": 8,
   "metadata": {
    "collapsed": true
   },
   "outputs": [],
   "source": [
    "def dif_cost():\n",
    "    n = len(theta)\n",
    "    grad = np.zeros((n, 1))\n",
    "    new_grad = np.zeros((n, 1))\n",
    "    z = np.dot(X, theta)\n",
    "    h = sigmoid(z)\n",
    "    # if sigmoid function gives error uncomment the 2 statements below and comment the statement above\n",
    "    #from scipy.special import expit\n",
    "    #h = expit(z)\n",
    "    for j in range(0, n):\n",
    "        x = np.zeros((m,1))\n",
    "        x[:,0] = X[:,j]\n",
    "        t = (h - y) * x \n",
    "        sum_ = np.sum(t)\n",
    "        grad[j, 0] = sum_ / m\n",
    "    new_grad[0,0] = grad[0,0] \n",
    "    new_grad[1:, 0] = grad[1:, 0] + lambda_ * theta[1:,0] / m   \n",
    "    return new_grad    "
   ]
  },
  {
   "cell_type": "markdown",
   "metadata": {},
   "source": [
    "##### Initialize theta values and lambda"
   ]
  },
  {
   "cell_type": "code",
   "execution_count": 9,
   "metadata": {
    "collapsed": true
   },
   "outputs": [],
   "source": [
    "theta = np.zeros((28, 1))\n",
    "lambda_ = 1"
   ]
  },
  {
   "cell_type": "markdown",
   "metadata": {},
   "source": [
    "##### Training"
   ]
  },
  {
   "cell_type": "code",
   "execution_count": 10,
   "metadata": {
    "collapsed": true
   },
   "outputs": [],
   "source": [
    "no_iter = 1000\n",
    "alpha = 1\n",
    "for i in range(1, no_iter):\n",
    "    grad = dif_cost()\n",
    "    theta = theta - alpha * grad"
   ]
  },
  {
   "cell_type": "markdown",
   "metadata": {},
   "source": [
    "##### Accuracy"
   ]
  },
  {
   "cell_type": "code",
   "execution_count": 13,
   "metadata": {},
   "outputs": [
    {
     "name": "stdout",
     "output_type": "stream",
     "text": [
      "Accuracy : 83.05 %\n"
     ]
    }
   ],
   "source": [
    "z_pred = np.dot(X, theta)\n",
    "pred = sigmoid(z_pred)\n",
    "# if sigmoid function gives error uncomment the 2 statements below and comment the statement above\n",
    "#from scipy.special import expit\n",
    "#pred = expit(z_pred)\n",
    "for i in range(0,m):\n",
    "    if(pred[i, 0] >= 0.5):\n",
    "        pred[i, 0] = 1\n",
    "    else:\n",
    "        pred[i, 0] = 0     \n",
    "count = 0\n",
    "for i in range(0,m):\n",
    "    if(pred[i, 0] == y[i, 0]):\n",
    "        count = count + 1\n",
    "accuracy = 100 * count / m\n",
    "print(\"Accuracy : {0:.2f} %\".format(accuracy))"
   ]
  },
  {
   "cell_type": "markdown",
   "metadata": {},
   "source": [
    "##### Plotting decision boundary"
   ]
  },
  {
   "cell_type": "code",
   "execution_count": 14,
   "metadata": {
    "scrolled": true
   },
   "outputs": [
    {
     "data": {
      "image/png": "[encoded data removed]",
      "text/plain": [
       "<matplotlib.figure.Figure at 0x7f0d80953710>"
      ]
     },
     "metadata": {},
     "output_type": "display_data"
    }
   ],
   "source": [
    "u = np.linspace(-1, 1.5, 50)\n",
    "v = np.linspace(-1, 1.5, 50)\n",
    "z = np.zeros((len(u), len(v)))\n",
    "for i in range(1, len(u)):\n",
    "    for j in range(1, len(v)):\n",
    "        z[i, j] = np.dot(mapFeature(u[i], v[j]), theta);\n",
    "z = np.transpose(z) \n",
    "pos = []\n",
    "neg = []\n",
    "for i in range(0, m):\n",
    "    if y[i] == 1:\n",
    "        pos.append(i)\n",
    "    else:\n",
    "        neg.append(i)\n",
    "import matplotlib.pyplot as plt\n",
    "plt.plot(X[pos, 1], X[pos, 2], '+', label = \"y=1\")\n",
    "plt.plot(X[neg, 1], X[neg, 2], 'yo', label = \"y=0\")\n",
    "plt.contour(u, v, z, 0, colors = 'r')\n",
    "plt.axis([-1, 1.5, -1, 1.25])\n",
    "\n",
    "plt.xlabel('Microchip Test 1')\n",
    "plt.ylabel('Microchip Test 2')\n",
    "plt.legend()\n",
    "plt.show()"
   ]
  },
  {
   "cell_type": "code",
   "execution_count": null,
   "metadata": {
    "collapsed": true
   },
   "outputs": [],
   "source": []
  }
 ],
 "metadata": {
  "kernelspec": {
   "display_name": "Python 3",
   "language": "python",
   "name": "python3"
  },
  "language_info": {
   "codemirror_mode": {
    "name": "ipython",
    "version": 3
   },
   "file_extension": ".py",
   "mimetype": "text/x-python",
   "name": "python",
   "nbconvert_exporter": "python",
   "pygments_lexer": "ipython3",
   "version": "3.6.1"
  }
 },
 "nbformat": 4,
 "nbformat_minor": 2
}
