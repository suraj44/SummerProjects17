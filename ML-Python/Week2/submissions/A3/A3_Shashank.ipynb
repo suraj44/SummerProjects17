{
 "cells": [
  {
   "cell_type": "code",
   "execution_count": 168,
   "metadata": {
    "collapsed": false
   },
   "outputs": [],
   "source": [
    "import numpy as np\n",
    "csv = np.genfromtxt('train_data.csv', delimiter = \",\")\n",
    "size_data = len(csv[1:,:])\n",
    "var0 = np.ones(size_data).reshape(1, size_data)\n",
    "var = np.concatenate((var0, np.transpose(csv[1:, 0:4])))\n",
    "target = csv[1:, 4]"
   ]
  },
  {
   "cell_type": "code",
   "execution_count": 169,
   "metadata": {
    "collapsed": false
   },
   "outputs": [],
   "source": [
    "theta = np.zeros(5)"
   ]
  },
  {
   "cell_type": "code",
   "execution_count": 170,
   "metadata": {
    "collapsed": false
   },
   "outputs": [],
   "source": [
    "def dif_cost(n):\n",
    "    dJ = 0\n",
    "    alpha = 0.5\n",
    "    h = np.dot(theta, var)\n",
    "    dJ = np.sum(np.dot((h - target), var[n, :]))\n",
    "    dJ = alpha * dJ / size_data  \n",
    "    return dJ"
   ]
  },
  {
   "cell_type": "code",
   "execution_count": 171,
   "metadata": {
    "collapsed": false
   },
   "outputs": [],
   "source": [
    "new_th = np.zeros(5)    \n",
    "n_iter = 1000\n",
    "for i in range(0, n_iter):\n",
    "    for j in range(0, 5):\n",
    "        new_th[j] = theta[j] - dif_cost(j)   \n",
    "    theta = new_th"
   ]
  },
  {
   "cell_type": "code",
   "execution_count": 172,
   "metadata": {
    "collapsed": false
   },
   "outputs": [
    {
     "name": "stdout",
     "output_type": "stream",
     "text": [
      "[ 1.66824986  0.71837337  3.12743084  0.42506237  1.2152172 ]\n"
     ]
    }
   ],
   "source": [
    "print(theta) "
   ]
  },
  {
   "cell_type": "code",
   "execution_count": 173,
   "metadata": {
    "collapsed": false
   },
   "outputs": [],
   "source": [
    "csv2 = np.genfromtxt('test_input.csv', delimiter = \",\")\n",
    "size_inp = len(csv2[1:,:])\n",
    "inp_var0 = np.ones(size_inp).reshape(1, size_inp)\n",
    "inp_var = np.concatenate((inp_var0, np.transpose(csv2[1:, 0:4])))"
   ]
  },
  {
   "cell_type": "code",
   "execution_count": 174,
   "metadata": {
    "collapsed": true
   },
   "outputs": [],
   "source": [
    "out_h = np.dot(theta, inp_var)"
   ]
  },
  {
   "cell_type": "code",
   "execution_count": 175,
   "metadata": {
    "collapsed": false
   },
   "outputs": [],
   "source": [
    "np.savetxt(\"test_output2.csv\", out_h, delimiter=\",\")"
   ]
  },
  {
   "cell_type": "code",
   "execution_count": null,
   "metadata": {
    "collapsed": true
   },
   "outputs": [],
   "source": []
  }
 ],
 "metadata": {
  "kernelspec": {
   "display_name": "Python 3",
   "language": "python",
   "name": "python3"
  },
  "language_info": {
   "codemirror_mode": {
    "name": "ipython",
    "version": 3
   },
   "file_extension": ".py",
   "mimetype": "text/x-python",
   "name": "python",
   "nbconvert_exporter": "python",
   "pygments_lexer": "ipython3",
   "version": "3.6.0"
  }
 },
 "nbformat": 4,
 "nbformat_minor": 2
}
