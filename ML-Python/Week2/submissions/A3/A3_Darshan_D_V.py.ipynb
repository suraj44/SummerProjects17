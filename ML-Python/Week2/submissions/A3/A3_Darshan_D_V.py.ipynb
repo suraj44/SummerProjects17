{
 "cells": [
  {
   "cell_type": "code",
   "execution_count": 3,
   "metadata": {
    "collapsed": true
   },
   "outputs": [],
   "source": [
    "import numpy as np"
   ]
  },
  {
   "cell_type": "code",
   "execution_count": 4,
   "metadata": {
    "collapsed": true
   },
   "outputs": [],
   "source": [
    " x=np.genfromtxt('C:\\\\Users\\\\Admin\\\\Downloads\\\\train_data.csv',delimiter=',',dtype=float)"
   ]
  },
  {
   "cell_type": "code",
   "execution_count": 5,
   "metadata": {
    "collapsed": true
   },
   "outputs": [],
   "source": [
    "x=np.delete(x,0,0)"
   ]
  },
  {
   "cell_type": "code",
   "execution_count": 6,
   "metadata": {
    "collapsed": true
   },
   "outputs": [],
   "source": [
    "y=x[:,4]"
   ]
  },
  {
   "cell_type": "code",
   "execution_count": 7,
   "metadata": {
    "collapsed": false
   },
   "outputs": [],
   "source": [
    "x=np.delete(x,4,1)\n",
    "x=np.insert(x,0,1,axis=1)"
   ]
  },
  {
   "cell_type": "code",
   "execution_count": 8,
   "metadata": {
    "collapsed": false
   },
   "outputs": [],
   "source": [
    "t=np.dot(np.linalg.pinv(np.dot(np.transpose(x),x)),np.transpose(x),)"
   ]
  },
  {
   "cell_type": "code",
   "execution_count": 9,
   "metadata": {
    "collapsed": true
   },
   "outputs": [],
   "source": [
    "T=np.dot(t,y)"
   ]
  },
  {
   "cell_type": "code",
   "execution_count": 10,
   "metadata": {
    "collapsed": false
   },
   "outputs": [
    {
     "name": "stdout",
     "output_type": "stream",
     "text": [
      "[ 1.66824986  0.71837337  3.12743084  0.42506237  1.2152172 ]\n"
     ]
    }
   ],
   "source": [
    "print T"
   ]
  },
  {
   "cell_type": "code",
   "execution_count": 11,
   "metadata": {
    "collapsed": false
   },
   "outputs": [],
   "source": [
    " a=np.genfromtxt('C:\\\\Users\\\\Admin\\\\Downloads\\\\test_input.csv',delimiter=',',dtype=float)"
   ]
  },
  {
   "cell_type": "code",
   "execution_count": 12,
   "metadata": {
    "collapsed": true
   },
   "outputs": [],
   "source": [
    "a=np.delete(a,0,0)\n",
    "a=np.insert(a,0,1,axis=1)"
   ]
  },
  {
   "cell_type": "code",
   "execution_count": 13,
   "metadata": {
    "collapsed": false
   },
   "outputs": [],
   "source": [
    "output=np.dot(a,T)"
   ]
  },
  {
   "cell_type": "code",
   "execution_count": 14,
   "metadata": {
    "collapsed": false
   },
   "outputs": [
    {
     "name": "stdout",
     "output_type": "stream",
     "text": [
      "[ 3.31498528  5.87658328  5.02224661  6.2932576   6.16237451  4.57690989\n",
      "  6.24863902  4.26387364  2.99450781  3.95151383  4.72510639  5.23181676\n",
      "  4.74309125  5.60377019  3.87350668  5.69381539  3.24284863  6.12640529\n",
      "  6.26386762  3.33960818  4.53534819  4.3900155   5.31416061  5.20330632\n",
      "  3.00609464  4.89242042  5.2699208   5.02511314  2.64666871  5.12820951\n",
      "  5.27623116  6.11490239  4.72264555  6.03008009  5.99675583  4.60813235\n",
      "  5.14592651  3.55465433  3.55671684  5.74704329  5.93366987  3.40549325\n",
      "  4.90453343  6.05682175  4.09401931  6.09221509  3.49072919  4.59400856\n",
      "  3.70131438  5.2334423   5.62853115  5.67626599  4.80006167  4.70863576\n",
      "  5.30914692  5.01977707  5.67022895  4.94513404  4.06941732  5.54961013]\n"
     ]
    }
   ],
   "source": [
    "print output"
   ]
  },
  {
   "cell_type": "code",
   "execution_count": null,
   "metadata": {
    "collapsed": true
   },
   "outputs": [],
   "source": []
  }
 ],
 "metadata": {
  "kernelspec": {
   "display_name": "Python 2",
   "language": "python",
   "name": "python2"
  },
  "language_info": {
   "codemirror_mode": {
    "name": "ipython",
    "version": 2
   },
   "file_extension": ".py",
   "mimetype": "text/x-python",
   "name": "python",
   "nbconvert_exporter": "python",
   "pygments_lexer": "ipython2",
   "version": "2.7.13"
  }
 },
 "nbformat": 4,
 "nbformat_minor": 2
}
