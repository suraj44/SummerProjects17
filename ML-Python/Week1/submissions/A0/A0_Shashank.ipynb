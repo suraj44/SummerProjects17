{
 "cells": [
  {
   "cell_type": "markdown",
   "metadata": {},
   "source": [
    "This is a program to perform Binary Search on a sorted array"
   ]
  },
  {
   "cell_type": "code",
   "execution_count": 41,
   "metadata": {
    "collapsed": false
   },
   "outputs": [
    {
     "name": "stdout",
     "output_type": "stream",
     "text": [
      "Input array 1 2 5 6\n",
      "Enter number to be searched 3\n"
     ]
    }
   ],
   "source": [
    "A = []\n",
    "A = input(\"Input a sorted array \")\n",
    "n = input(\"Enter number to be searched \")"
   ]
  },
  {
   "cell_type": "code",
   "execution_count": 42,
   "metadata": {
    "collapsed": false
   },
   "outputs": [
    {
     "name": "stdout",
     "output_type": "stream",
     "text": [
      "3 not found\n"
     ]
    }
   ],
   "source": [
    "m1 = 0\n",
    "m2 = len(A) - 1\n",
    "while m1 <= m2:\n",
    "    mid = int((m1 + m2) / 2)\n",
    "    if A[mid] == n:\n",
    "        print(n, \"found\")\n",
    "        break;\n",
    "    elif A[mid] > n:\n",
    "        m2 = mid - 1\n",
    "    else:\n",
    "        m1 = mid + 1\n",
    "if m2 < m1:\n",
    "    print(n, \"not found\")"
   ]
  }
 ],
 "metadata": {
  "kernelspec": {
   "display_name": "Python 3",
   "language": "python",
   "name": "python3"
  },
  "language_info": {
   "codemirror_mode": {
    "name": "ipython",
    "version": 3
   },
   "file_extension": ".py",
   "mimetype": "text/x-python",
   "name": "python",
   "nbconvert_exporter": "python",
   "pygments_lexer": "ipython3",
   "version": "3.6.0"
  }
 },
 "nbformat": 4,
 "nbformat_minor": 2
}
