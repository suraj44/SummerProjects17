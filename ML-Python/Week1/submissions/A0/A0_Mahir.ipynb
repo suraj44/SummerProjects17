{
 "cells": [
  {
   "cell_type": "code",
   "execution_count": 4,
   "metadata": {
    "collapsed": false
   },
   "outputs": [
    {
     "name": "stdout",
     "output_type": "stream",
     "text": [
      " \n",
      "0  \n",
      "0 1  \n",
      "0 1 2  \n",
      "0 1 2 3  \n"
     ]
    }
   ],
   "source": [
    "# A simple pattern to start off\n",
    "\n",
    "for outer in range(5):\n",
    "    for inner in range(outer):\n",
    "        print inner,\n",
    "    print \" \""
   ]
  },
  {
   "cell_type": "code",
   "execution_count": 6,
   "metadata": {
    "collapsed": false
   },
   "outputs": [
    {
     "name": "stdout",
     "output_type": "stream",
     "text": [
      "Enter your age 0\n",
      "Not an adult.\n"
     ]
    }
   ],
   "source": [
    "# A simple decision making program\n",
    "\n",
    "age = input(\"Enter your age \")\n",
    "if age < 18:\n",
    "    print \"Not an adult.\"\n",
    "else:\n",
    "    print \"Adult.\""
   ]
  },
  {
   "cell_type": "code",
   "execution_count": null,
   "metadata": {
    "collapsed": true
   },
   "outputs": [],
   "source": []
  }
 ],
 "metadata": {
  "kernelspec": {
   "display_name": "Python 2",
   "language": "python",
   "name": "python2"
  },
  "language_info": {
   "codemirror_mode": {
    "name": "ipython",
    "version": 2
   },
   "file_extension": ".py",
   "mimetype": "text/x-python",
   "name": "python",
   "nbconvert_exporter": "python",
   "pygments_lexer": "ipython2",
   "version": "2.7.13"
  }
 },
 "nbformat": 4,
 "nbformat_minor": 2
}
