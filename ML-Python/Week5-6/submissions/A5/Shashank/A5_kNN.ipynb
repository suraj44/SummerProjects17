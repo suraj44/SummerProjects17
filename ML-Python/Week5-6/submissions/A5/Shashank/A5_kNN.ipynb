{
 "cells": [
  {
   "cell_type": "markdown",
   "metadata": {},
   "source": [
    "# Assignment 5\n",
    "\n",
    "## K Nearest Neighbours\n",
    "\n",
    "### To classify 3 different types of irises (Setosa, Versicolour, and Virginica)"
   ]
  },
  {
   "cell_type": "code",
   "execution_count": 1,
   "metadata": {
    "collapsed": true
   },
   "outputs": [],
   "source": [
    "import numpy as np\n",
    "from sklearn import datasets\n",
    "dataset = datasets.load_iris()\n",
    "A = dataset.data\n",
    "B = dataset.target"
   ]
  },
  {
   "cell_type": "markdown",
   "metadata": {},
   "source": [
    "##### Function to find euclidean distance between two points"
   ]
  },
  {
   "cell_type": "code",
   "execution_count": 2,
   "metadata": {
    "collapsed": true
   },
   "outputs": [],
   "source": [
    "def distance(point1, point2):\n",
    "    diff = point1 - point2\n",
    "    sq_point = np.square(diff)\n",
    "    dist = np.sum(sq_point)\n",
    "    dist = dist ** (0.5)\n",
    "    return dist"
   ]
  },
  {
   "cell_type": "markdown",
   "metadata": {},
   "source": [
    "##### Function to find class of first k nearest neighbours"
   ]
  },
  {
   "cell_type": "code",
   "execution_count": 3,
   "metadata": {
    "collapsed": true
   },
   "outputs": [],
   "source": [
    "import operator\n",
    "def findNeighbour(X_train, Y_train, X_test_instance):\n",
    "    k = 5\n",
    "    distances = []\n",
    "    len_train = len(X_train)\n",
    "    for i in range(len_train):\n",
    "        dist = distance(X_train[i], X_test_instance)\n",
    "        distances.append((Y_train[i], dist))    \n",
    "    distances.sort(key = operator.itemgetter(1))\n",
    "    neighbor_class = []\n",
    "    for i in range(k):\n",
    "        neighbor_class.append(distances[i][0])   \n",
    "    return neighbor_class"
   ]
  },
  {
   "cell_type": "markdown",
   "metadata": {},
   "source": [
    "##### Function to find the most probable class"
   ]
  },
  {
   "cell_type": "code",
   "execution_count": 4,
   "metadata": {
    "collapsed": true
   },
   "outputs": [],
   "source": [
    "def findClass(neighbour_class):\n",
    "    class_count = {}\n",
    "    length = len(neighbour_class)\n",
    "    for i in range(length):\n",
    "        class_ = neighbour_class[i]\n",
    "        if class_ in class_count:\n",
    "            class_count[class_] = class_count[class_] + 1\n",
    "        else:\n",
    "            class_count[class_] = 1\n",
    "    sort_counts = sorted(class_count.items(), key = operator.itemgetter(1), reverse = True)\n",
    "    return sort_counts[0][0]"
   ]
  },
  {
   "cell_type": "markdown",
   "metadata": {},
   "source": [
    "##### Split data into training and testing sets randomly"
   ]
  },
  {
   "cell_type": "code",
   "execution_count": 5,
   "metadata": {
    "collapsed": true
   },
   "outputs": [],
   "source": [
    "import random\n",
    "X_train = []\n",
    "Y_train = []\n",
    "X_test = []\n",
    "Y_test = []\n",
    "length = len(A)\n",
    "split = 0.67\n",
    "for i in range(length):\n",
    "    if random.random() < split:\n",
    "        X_train.append(A[i])\n",
    "        Y_train.append(B[i])\n",
    "    else:\n",
    "        X_test.append(A[i])\n",
    "        Y_test.append(B[i])"
   ]
  },
  {
   "cell_type": "markdown",
   "metadata": {},
   "source": [
    "##### Making predictions"
   ]
  },
  {
   "cell_type": "code",
   "execution_count": 6,
   "metadata": {
    "collapsed": true
   },
   "outputs": [],
   "source": [
    "len_train = len(X_train)\n",
    "len_test = len(X_test)\n",
    "predictions = []\n",
    "for i in range(len_test):\n",
    "    neighbors = findNeighbour(X_train, Y_train, X_test[i])\n",
    "    class_ = findClass(neighbors)\n",
    "    predictions.append(class_)    "
   ]
  },
  {
   "cell_type": "markdown",
   "metadata": {},
   "source": [
    "##### Accuracy of predictions"
   ]
  },
  {
   "cell_type": "code",
   "execution_count": 7,
   "metadata": {},
   "outputs": [
    {
     "name": "stdout",
     "output_type": "stream",
     "text": [
      "Accuracy : 93.22 %\n"
     ]
    }
   ],
   "source": [
    "count_correct = 0\n",
    "for i in range(len_test):\n",
    "    if predictions[i] == Y_test[i]:\n",
    "        count_correct = count_correct + 1\n",
    "accuracy = count_correct * 100 / len_test\n",
    "print(\"Accuracy : {0:.2f} %\".format(accuracy))"
   ]
  },
  {
   "cell_type": "code",
   "execution_count": null,
   "metadata": {
    "collapsed": true
   },
   "outputs": [],
   "source": []
  }
 ],
 "metadata": {
  "kernelspec": {
   "display_name": "Python 3",
   "language": "python",
   "name": "python3"
  },
  "language_info": {
   "codemirror_mode": {
    "name": "ipython",
    "version": 3
   },
   "file_extension": ".py",
   "mimetype": "text/x-python",
   "name": "python",
   "nbconvert_exporter": "python",
   "pygments_lexer": "ipython3",
   "version": "3.6.1"
  }
 },
 "nbformat": 4,
 "nbformat_minor": 2
}
